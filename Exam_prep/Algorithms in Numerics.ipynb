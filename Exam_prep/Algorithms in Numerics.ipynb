{
 "cells": [
  {
   "cell_type": "markdown",
   "metadata": {},
   "source": [
    "# Module 2"
   ]
  },
  {
   "cell_type": "code",
   "execution_count": 1,
   "metadata": {},
   "outputs": [],
   "source": [
    "#===============#\n",
    "# PCG algorithm #\n",
    "#===============#\n",
    "\n",
    "import numpy as np\n",
    "import numpy.linalg as la\n",
    "\n",
    "# These are the functions to be implemented in 1a\n",
    "def PCG(A_func,b,x0,tol,Precond):\n",
    "    \"\"\"\n",
    "    A_func represents the matrix A in Ax = b.\n",
    "    Likewise, the function b_def can be used to construct b\n",
    "    \"\"\"\n",
    "    N=len(x0)\n",
    "    x=x0\n",
    "    r = b - A_func(x)\n",
    "    z = Precond(r)\n",
    "    p = z\n",
    "    Ax = A_func(x)\n",
    "    zr = np.inner(z,r)\n",
    "    rnrm = la.norm(r,2)\n",
    "    iter=0\n",
    "    while rnrm > tol and iter < N:\n",
    "        iter+=1\n",
    "        Ap = A_func(p)\n",
    "        alpha = zr/np.inner(p,Ap)\n",
    "        x = x + alpha*p\n",
    "        r = r - alpha*Ap\n",
    "        z = Precond(r)\n",
    "        zr1 = np.inner(z,r)\n",
    "        beta = zr1/zr\n",
    "        p=z+beta*p\n",
    "        zr=zr1\n",
    "        rnrm = la.norm(r,2)\n",
    "        \n",
    "    return x, iter, r\n",
    "    \n",
    "    \n",
    "def PrecNull(r):\n",
    "    return r\n",
    "\n",
    "def PrecJac(p):\n",
    "    n=len(p)\n",
    "    u=np.zeros((n,))\n",
    "    for k in range(nJac):\n",
    "        r=p-A_func(u)\n",
    "        u=u+omega*0.25*r\n",
    "    return u\n",
    "\n",
    "def A_func(v):\n",
    "    n2=len(v)\n",
    "    n=int(np.sqrt(n2))\n",
    "    if n**2 != n2:\n",
    "        sys.exit(\"Size of vector must be a square\")\n",
    "    M=np.zeros((n+2,n+2))\n",
    "    M[1:n+1,1:n+1]=np.reshape(v,(n,n))\n",
    "    AM = 4*M[1:n+1,1:n+1]-M[:n,1:n+1]-M[2:n+2,1:n+1]-M[1:n+1,:n]-M[1:n+1,2:n+2]\n",
    "    Av = np.reshape(AM,(n2,))\n",
    "    return Av\n",
    "\n",
    "def b_def(n):\n",
    "    h = 1/(n+1)\n",
    "    X = np.linspace(h,1-h,n)\n",
    "    Y=X\n",
    "    B = np.outer( 16*X**2*(1-X)**2, 16*Y**2*(1-Y)**2 )\n",
    "    b = np.reshape(B, (n**2,))\n",
    "    return B,b\n",
    "\n"
   ]
  },
  {
   "cell_type": "code",
   "execution_count": null,
   "metadata": {},
   "outputs": [],
   "source": []
  }
 ],
 "metadata": {
  "kernelspec": {
   "display_name": "Python 3",
   "language": "python",
   "name": "python3"
  },
  "language_info": {
   "codemirror_mode": {
    "name": "ipython",
    "version": 3
   },
   "file_extension": ".py",
   "mimetype": "text/x-python",
   "name": "python",
   "nbconvert_exporter": "python",
   "pygments_lexer": "ipython3",
   "version": "3.7.3"
  }
 },
 "nbformat": 4,
 "nbformat_minor": 2
}
