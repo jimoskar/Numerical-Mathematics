{
 "cells": [
  {
   "cell_type": "markdown",
   "metadata": {},
   "source": [
    "# TMA4215 - Assignment 5 - From modules 4 and 5\n",
    "\n",
    "**Deadline:** Thursday November 12, 11:59PM\n",
    "\n",
    "**For approval:** Upload a Jupyter Notebook, a pdf-file, or a scan/photo of readable handwriting in Blackboard with all calculations and answers. Answer Control questions in Blackboard.\n",
    "\n",
    "**Problem 1.** (Module 4)\n",
    "We define the function $f:\\mathbb{R}^2\\rightarrow\\mathbb{R}$\n",
    "$$\n",
    "f(x,y) = y^4 + 3y^2 - 4xy - 2y + x^2\n",
    "$$\n",
    "\n",
    "**(a)** Find all the (real) stationary points of $f$ and determine all its local or global minima. Check in particular whether the Hessian is SPD at the stationary point(s).\n",
    "\n",
    "**ANSWER:**\n",
    "\n",
    "($\\frac{\\partial f}{\\partial x}, \\frac{\\partial f}{\\partial y}) = (0,0)$ gives one stationary point, $x = 2$ and $y = 1$.\n",
    "The Hessian of $f$ becomes \n",
    "$$\n",
    "H(y) = \\begin{pmatrix}\n",
    "2 & -4\\\\\n",
    "-4 & 12y^2 + 6\n",
    "\\end{pmatrix}\n",
    "$$\n",
    "\n",
    "Hence, at the stationary point, $x^TH(1)x = 2(x_1 -x_2)^2 + 16x_2^2 >0$ for a nonzero vector $x = (x_1, x_2)^T$. This means that the Hessian is SPD at the stationary point, and $(2,1)$ is a local minima. Also: at $y=1$ both the trace and the determinant equal 20, so both the sum and the product of the eigenvalues are positive, hence, both eigenvalues must be positive so the Hessian is SPD at the stationary point.\n",
    "In fact, the point $(2,1)$ is a global minimum since $f(x,y)\\rightarrow+\\infty$ as $\\|(x,y)\\|\\rightarrow\\infty$.\n",
    "\n",
    "**Control question 1:** How many stationary points are there?\n",
    "\n",
    "**(b)** Starting at the point $(x,y) = (0, 0)$, compute one step of the gradient descent method with backtracking (Armijo) line search.\n",
    "\n",
    "$$\n",
    "\\begin{array}{l}\n",
    "\\text{Choose}\\ \\bar{\\alpha}>0, \\rho\\in(0,1)\\ c\\in(0,1);\\ \n",
    "\\text{Set}\\ \\alpha\\rightarrow\\bar{\\alpha}\\\\\n",
    "\\mathbf{repeat}\\ \\text{until} f(x_k+\\alpha p_k)\\leq f(x_k)+c\\alpha\\nabla f_k^Tp_k\\\\\n",
    "\\qquad\\alpha\\rightarrow\\rho\\alpha \\\\\n",
    "\\textbf{end}\n",
    "\\end{array}\n",
    "$$\n",
    "\n",
    "Start with an initial step length $\\bar{\\alpha}=1$, and use the parameters $c = 1/10$ (sufficient decrease parameter) and   $\\rho=1/4$ (contraction factor). The calculations can be done either by hand or by writing a code for it.\n",
    "\n",
    "**Control question 2:** What value of $\\alpha$ is used in this first iteration?\n",
    "**ANSWER:** $\\alpha_1 = 0.25$\n",
    "\n",
    "**Control question 3:** What is $(x_1,y_1)$, the next approximation.\n",
    "**ANSWER:** $(x_1,y_1) = (0, 0.5)$.\n"
   ]
  },
  {
   "cell_type": "markdown",
   "metadata": {},
   "source": [
    "**Problem 2** (Module 5) Find the natural cubic spline $S_3(x)$ on the knots $\\{-1,0,1\\}$ that interepolates the data $S_3(-1)=0, S_3(0)=1, S_3(1)=0$.\n",
    "\n",
    "**ANSWER:** We find that \n",
    "\n",
    "$$\n",
    "S_3(x) = \\left\\{\n",
    "\\begin{array}{ll}\n",
    "-\\frac12 x^3-\\frac32 x^2 + 1 & -1\\leq x < 0\\\\\n",
    "\\frac12 x^3-\\frac32 x^2 + 1 & 0 \\leq x \\leq 1\n",
    "\\end{array}\n",
    "\\right.\n",
    "$$\n",
    "**Control question 4:** What is $S_3(1/2)$. \n",
    "\n",
    "**Control question 5:** What is $S_3'(1/2)$.\n",
    "\n"
   ]
  },
  {
   "cell_type": "code",
   "execution_count": 11,
   "metadata": {},
   "outputs": [
    {
     "name": "stdout",
     "output_type": "stream",
     "text": [
      "iteration: 1\n",
      "x: \n",
      "[0.  0.5]\n",
      "alpha: 0.25\n",
      "iteration: 2\n",
      "x: \n",
      "[0.125   0.40625]\n",
      "alpha: 0.0625\n"
     ]
    }
   ],
   "source": [
    "#Code for 1b\n",
    "import numpy as np\n",
    "\n",
    "def f(x):\n",
    "    return x[1]**4 + 3*x[1]**2 - 4*x[0]*x[1] - 2*x[1] + x[0]**2\n",
    "\n",
    "def grad_f(x):\n",
    "    comp1 = -4*x[1] + 2*x[0]\n",
    "    comp2 = 4*x[1]**3 + 6*x[1] - 4*x[0] - 2\n",
    "    return np.array([comp1, comp2])\n",
    "\n",
    "alpha_hat = 1\n",
    "c = 1/10\n",
    "rho = 1/4\n",
    "def armijo(f,grad_f,x0):\n",
    "    alpha = alpha_hat\n",
    "    x = x0\n",
    "    p = -grad_f(x)\n",
    "    counter = 1\n",
    "    while f(x + alpha*p) > f(x) + c*alpha*grad_f(x).T @ p:\n",
    "        alpha *= rho\n",
    "        x = x + alpha*p\n",
    "        p = -grad_f(x)\n",
    "        \n",
    "        print(\"iteration: \" + str(counter))\n",
    "        print(\"x: \")\n",
    "        print(x)\n",
    "        print(\"alpha: \" + str(alpha))\n",
    "        counter += 1\n",
    "    return x\n",
    "        \n",
    "    \n",
    "    \n",
    "    \n",
    "x0 = np.array([0,0])\n",
    "x = armijo(f,grad_f,x0)\n",
    "\n"
   ]
  },
  {
   "cell_type": "code",
   "execution_count": 21,
   "metadata": {},
   "outputs": [
    {
     "name": "stdout",
     "output_type": "stream",
     "text": [
      "[[-0.5  0.5]\n",
      " [ 0.  -1.5]\n",
      " [ 1.5  0. ]\n",
      " [ 0.   1. ]]\n",
      "[-1.  0.  1.]\n"
     ]
    },
    {
     "data": {
      "image/png": "[encoded data removed]",
      "text/plain": [
       "<Figure size 468x288 with 1 Axes>"
      ]
     },
     "metadata": {
      "needs_background": "light"
     },
     "output_type": "display_data"
    }
   ],
   "source": [
    "#Checking if the spline is correct\n",
    "from scipy import interpolate\n",
    "import numpy as np\n",
    "import matplotlib.pyplot as plt\n",
    "\n",
    "\n",
    "x = np.array([-1,0,1])\n",
    "y = np.array([0,1,0])\n",
    "\n",
    "spline = interpolate.CubicSpline(x,y,bc_type = 'natural')\n",
    "print(spline.c)\n",
    "print(spline.x)\n",
    "\n",
    "\n",
    "\n",
    "\n",
    "xs = np.arange(-1, 1.1, 0.1)\n",
    "fig, ax = plt.subplots(figsize=(6.5, 4))\n",
    "ax.plot(xs, spline(xs), label=\"S\")\n",
    "plt.show()\n",
    "\n"
   ]
  },
  {
   "cell_type": "raw",
   "metadata": {},
   "source": []
  }
 ],
 "metadata": {
  "kernelspec": {
   "display_name": "Python 3",
   "language": "python",
   "name": "python3"
  },
  "language_info": {
   "codemirror_mode": {
    "name": "ipython",
    "version": 3
   },
   "file_extension": ".py",
   "mimetype": "text/x-python",
   "name": "python",
   "nbconvert_exporter": "python",
   "pygments_lexer": "ipython3",
   "version": "3.7.3"
  }
 },
 "nbformat": 4,
 "nbformat_minor": 4
}
