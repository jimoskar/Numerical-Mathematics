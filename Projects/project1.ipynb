{
 "cells": [
  {
   "cell_type": "code",
   "execution_count": 47,
   "metadata": {},
   "outputs": [
    {
     "data": {
      "image/png": "[encoded data removed]",
      "text/plain": [
       "<Figure size 432x288 with 1 Axes>"
      ]
     },
     "metadata": {
      "needs_background": "light"
     },
     "output_type": "display_data"
    },
    {
     "name": "stdout",
     "output_type": "stream",
     "text": [
      "[  3. -24.  30.]\n",
      "[ -5.33991617  25.58571102 -18.37708222]\n",
      "0.10199776021168722\n"
     ]
    },
    {
     "data": {
      "image/png": "[encoded data removed]",
      "text/plain": [
       "<Figure size 432x288 with 1 Axes>"
      ]
     },
     "metadata": {
      "needs_background": "light"
     },
     "output_type": "display_data"
    }
   ],
   "source": [
    "import numpy as np\n",
    "import matplotlib.pyplot as plt\n",
    "import scipy.linalg as sc\n",
    "\n",
    "#(a)\n",
    "A = sc.hilbert(3)\n",
    "K = np.linalg.cond(A)\n",
    "\n",
    "n_start = 2\n",
    "n_end = 13\n",
    "diff = n_end - n_start\n",
    "N = np.zeros(diff)\n",
    "K = np.zeros(diff)\n",
    "\n",
    "for i in range(diff):\n",
    "    N[i] = i\n",
    "    A = sc.hilbert(i+1)\n",
    "    K[i] = np.linalg.cond(A)\n",
    "\n",
    "plt.plot(N,K)\n",
    "plt.yscale(\"log\")\n",
    "\n",
    "plt.show()\n",
    "\n",
    "#(b)\n",
    "\n",
    "n = 3\n",
    "maxden = (2*n+1)**2\n",
    "\n",
    "b = np.ones(n)\n",
    "db = np.random.rand(n)/maxden\n",
    "\n",
    "H = sc.hilbert(n)\n",
    "dH = np.random.rand(n,n)/maxden\n",
    "\n",
    "x = np.linalg.solve(H,b)\n",
    "\n",
    "xper = np.linalg.solve(H+dH,b + db)\n",
    "\n",
    "print(x)\n",
    "print(xper)\n",
    "\n",
    "dx = xper - x\n",
    "\n",
    "Q = np.linalg.norm(dx)/np.linalg.norm(x) / (np.linalg.norm(dH)/np.linalg.norm(H) + np.linalg.norm(db)/np.linalg.norm(b))\n",
    "K = np.linalg.cond(H)\n",
    "\n",
    "def calculate_quotient(mult):\n",
    "    n = 5\n",
    "\n",
    "    b = np.ones(n)\n",
    "    db = np.random.rand(n) * mult/(2*n+1)\n",
    "\n",
    "    H = sc.hilbert(n)\n",
    "    dH = np.random.rand(n,n) * mult/(2*n+1)\n",
    "\n",
    "    x = np.linalg.solve(H,b)\n",
    "    xper = np.linalg.solve(H+dH,b + db)\n",
    "    \n",
    "    Q = np.linalg.norm(dx)/np.linalg.norm(x) / (np.linalg.norm(dH)/np.linalg.norm(H) + np.linalg.norm(db)/np.linalg.norm(b))\n",
    "    K = np.linalg.cond(H)\n",
    "    \n",
    "    return Q/K\n",
    "    \n",
    "\n",
    "print(Q/K)\n",
    "\n",
    "ratio = [ calculate_quotient(i) for i in range(1,100)]\n",
    "mult = [i for i in range(1,100)]\n",
    "\n",
    "plt.plot(mult,ratio)\n",
    "\n",
    "plt.show()\n",
    "\n"
   ]
  },
  {
   "cell_type": "code",
   "execution_count": null,
   "metadata": {},
   "outputs": [],
   "source": []
  },
  {
   "cell_type": "code",
   "execution_count": null,
   "metadata": {},
   "outputs": [],
   "source": []
  }
 ],
 "metadata": {
  "kernelspec": {
   "display_name": "Python 3",
   "language": "python",
   "name": "python3"
  },
  "language_info": {
   "codemirror_mode": {
    "name": "ipython",
    "version": 3
   },
   "file_extension": ".py",
   "mimetype": "text/x-python",
   "name": "python",
   "nbconvert_exporter": "python",
   "pygments_lexer": "ipython3",
   "version": "3.7.3"
  }
 },
 "nbformat": 4,
 "nbformat_minor": 2
}
